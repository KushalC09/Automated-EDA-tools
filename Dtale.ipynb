{
 "cells": [
  {
   "cell_type": "code",
   "execution_count": 1,
   "id": "102ebb37",
   "metadata": {},
   "outputs": [],
   "source": [
    "import pandas as pd\n",
    "df = pd.read_csv('K:\\Travel.csv')"
   ]
  },
  {
   "cell_type": "code",
   "execution_count": 3,
   "id": "a3b67032",
   "metadata": {},
   "outputs": [
    {
     "name": "stdout",
     "output_type": "stream",
     "text": [
      "Defaulting to user installation because normal site-packages is not writeable\n",
      "Requirement already satisfied: dtale in c:\\users\\kusha\\appdata\\roaming\\python\\python39\\site-packages (2.8.1)\n",
      "Requirement already satisfied: plotly>=5.0.0 in k:\\anaconda\\lib\\site-packages (from dtale) (5.6.0)\n",
      "Requirement already satisfied: statsmodels in k:\\anaconda\\lib\\site-packages (from dtale) (0.13.2)\n",
      "Requirement already satisfied: scikit-learn in k:\\anaconda\\lib\\site-packages (from dtale) (1.0.2)\n",
      "Requirement already satisfied: missingno<=0.4.2 in c:\\users\\kusha\\appdata\\roaming\\python\\python39\\site-packages (from dtale) (0.4.2)\n",
      "Requirement already satisfied: seaborn in k:\\anaconda\\lib\\site-packages (from dtale) (0.11.2)\n",
      "Requirement already satisfied: dash-daq in c:\\users\\kusha\\appdata\\roaming\\python\\python39\\site-packages (from dtale) (0.5.0)\n",
      "Requirement already satisfied: Flask in k:\\anaconda\\lib\\site-packages (from dtale) (1.1.2)\n",
      "Requirement already satisfied: xarray in k:\\anaconda\\lib\\site-packages (from dtale) (0.20.1)\n",
      "Requirement already satisfied: dash>=2.0.0 in c:\\users\\kusha\\appdata\\roaming\\python\\python39\\site-packages (from dtale) (2.7.0)\n",
      "Requirement already satisfied: itsdangerous in k:\\anaconda\\lib\\site-packages (from dtale) (2.0.1)\n",
      "Requirement already satisfied: numpy in k:\\anaconda\\lib\\site-packages (from dtale) (1.21.5)\n",
      "Requirement already satisfied: networkx in k:\\anaconda\\lib\\site-packages (from dtale) (2.7.1)\n",
      "Requirement already satisfied: Flask-Compress in c:\\users\\kusha\\appdata\\roaming\\python\\python39\\site-packages (from dtale) (1.13)\n",
      "Requirement already satisfied: matplotlib in k:\\anaconda\\lib\\site-packages (from dtale) (3.5.1)\n",
      "Requirement already satisfied: squarify in c:\\users\\kusha\\appdata\\roaming\\python\\python39\\site-packages (from dtale) (0.4.3)\n",
      "Requirement already satisfied: openpyxl in k:\\anaconda\\lib\\site-packages (from dtale) (3.0.9)\n",
      "Note: you may need to restart the kernel to use updated packages.\n",
      "Requirement already satisfied: dash-colorscales in c:\\users\\kusha\\appdata\\roaming\\python\\python39\\site-packages (from dtale) (0.0.4)\n",
      "Requirement already satisfied: strsimpy in c:\\users\\kusha\\appdata\\roaming\\python\\python39\\site-packages (from dtale) (0.2.1)\n",
      "Requirement already satisfied: pandas in k:\\anaconda\\lib\\site-packages (from dtale) (1.4.2)\n",
      "Requirement already satisfied: certifi in k:\\anaconda\\lib\\site-packages (from dtale) (2021.10.8)\n",
      "Requirement already satisfied: flask-ngrok in c:\\users\\kusha\\appdata\\roaming\\python\\python39\\site-packages (from dtale) (0.0.25)\n",
      "Requirement already satisfied: kaleido in c:\\users\\kusha\\appdata\\roaming\\python\\python39\\site-packages (from dtale) (0.2.1)\n",
      "Requirement already satisfied: et-xmlfile in k:\\anaconda\\lib\\site-packages (from dtale) (1.1.0)\n",
      "Requirement already satisfied: xlrd in k:\\anaconda\\lib\\site-packages (from dtale) (2.0.1)\n",
      "Requirement already satisfied: scipy in k:\\anaconda\\lib\\site-packages (from dtale) (1.7.3)\n",
      "Requirement already satisfied: lz4 in c:\\users\\kusha\\appdata\\roaming\\python\\python39\\site-packages (from dtale) (4.0.2)\n",
      "Requirement already satisfied: dash-bootstrap-components in c:\\users\\kusha\\appdata\\roaming\\python\\python39\\site-packages (from dtale) (1.2.1)\n",
      "Requirement already satisfied: future>=0.14.0 in k:\\anaconda\\lib\\site-packages (from dtale) (0.18.2)\n",
      "Requirement already satisfied: cycler in k:\\anaconda\\lib\\site-packages (from dtale) (0.11.0)\n",
      "Requirement already satisfied: requests in k:\\anaconda\\lib\\site-packages (from dtale) (2.27.1)\n",
      "Requirement already satisfied: six in k:\\anaconda\\lib\\site-packages (from dtale) (1.16.0)\n",
      "Requirement already satisfied: dash-table==5.0.0 in c:\\users\\kusha\\appdata\\roaming\\python\\python39\\site-packages (from dash>=2.0.0->dtale) (5.0.0)\n",
      "Requirement already satisfied: dash-html-components==2.0.0 in c:\\users\\kusha\\appdata\\roaming\\python\\python39\\site-packages (from dash>=2.0.0->dtale) (2.0.0)\n",
      "Requirement already satisfied: dash-core-components==2.0.0 in c:\\users\\kusha\\appdata\\roaming\\python\\python39\\site-packages (from dash>=2.0.0->dtale) (2.0.0)\n",
      "Requirement already satisfied: Jinja2>=2.10.1 in k:\\anaconda\\lib\\site-packages (from Flask->dtale) (2.11.3)\n",
      "Requirement already satisfied: click>=5.1 in k:\\anaconda\\lib\\site-packages (from Flask->dtale) (8.0.4)\n",
      "Requirement already satisfied: Werkzeug>=0.15 in k:\\anaconda\\lib\\site-packages (from Flask->dtale) (2.0.3)\n",
      "Requirement already satisfied: colorama in k:\\anaconda\\lib\\site-packages (from click>=5.1->Flask->dtale) (0.4.4)\n",
      "Requirement already satisfied: MarkupSafe>=0.23 in k:\\anaconda\\lib\\site-packages (from Jinja2>=2.10.1->Flask->dtale) (2.0.1)\n",
      "Requirement already satisfied: tenacity>=6.2.0 in k:\\anaconda\\lib\\site-packages (from plotly>=5.0.0->dtale) (8.0.1)\n",
      "Requirement already satisfied: brotli in c:\\users\\kusha\\appdata\\roaming\\python\\python39\\site-packages (from Flask-Compress->dtale) (1.0.9)\n",
      "Requirement already satisfied: packaging>=20.0 in k:\\anaconda\\lib\\site-packages (from matplotlib->dtale) (21.3)\n",
      "Requirement already satisfied: pyparsing>=2.2.1 in k:\\anaconda\\lib\\site-packages (from matplotlib->dtale) (3.0.4)\n",
      "Requirement already satisfied: kiwisolver>=1.0.1 in k:\\anaconda\\lib\\site-packages (from matplotlib->dtale) (1.3.2)\n",
      "Requirement already satisfied: fonttools>=4.22.0 in k:\\anaconda\\lib\\site-packages (from matplotlib->dtale) (4.25.0)\n",
      "Requirement already satisfied: python-dateutil>=2.7 in k:\\anaconda\\lib\\site-packages (from matplotlib->dtale) (2.8.2)\n",
      "Requirement already satisfied: pillow>=6.2.0 in k:\\anaconda\\lib\\site-packages (from matplotlib->dtale) (9.0.1)\n",
      "Requirement already satisfied: pytz>=2020.1 in k:\\anaconda\\lib\\site-packages (from pandas->dtale) (2021.3)\n",
      "Requirement already satisfied: idna<4,>=2.5 in k:\\anaconda\\lib\\site-packages (from requests->dtale) (3.3)\n",
      "Requirement already satisfied: urllib3<1.27,>=1.21.1 in k:\\anaconda\\lib\\site-packages (from requests->dtale) (1.26.9)\n",
      "Requirement already satisfied: charset-normalizer~=2.0.0 in k:\\anaconda\\lib\\site-packages (from requests->dtale) (2.0.4)\n",
      "Requirement already satisfied: threadpoolctl>=2.0.0 in k:\\anaconda\\lib\\site-packages (from scikit-learn->dtale) (2.2.0)\n",
      "Requirement already satisfied: joblib>=0.11 in k:\\anaconda\\lib\\site-packages (from scikit-learn->dtale) (1.1.0)\n",
      "Requirement already satisfied: patsy>=0.5.2 in k:\\anaconda\\lib\\site-packages (from statsmodels->dtale) (0.5.2)\n"
     ]
    }
   ],
   "source": [
    "pip install dtale"
   ]
  },
  {
   "cell_type": "code",
   "execution_count": 4,
   "id": "7308dac8",
   "metadata": {},
   "outputs": [
    {
     "name": "stderr",
     "output_type": "stream",
     "text": [
      "C:\\Users\\kusha\\AppData\\Roaming\\Python\\Python39\\site-packages\\dtale\\views.py:725: FutureWarning:\n",
      "\n",
      "['TypeofContact'] did not aggregate successfully. If any error is raised this will raise in a future version of pandas. Drop these columns/ops to avoid this warning.\n",
      "\n"
     ]
    }
   ],
   "source": [
    "import dtale\n",
    "\n",
    "d = dtale.show(df)\n"
   ]
  },
  {
   "cell_type": "code",
   "execution_count": 7,
   "id": "0a57e228",
   "metadata": {},
   "outputs": [
    {
     "name": "stderr",
     "output_type": "stream",
     "text": [
      "2022-11-05 00:02:07,127 - WARNING  - findfont: Font family ['Heiti TC'] not found. Falling back to DejaVu Sans.\n",
      "2022-11-05 00:02:07,260 - WARNING  - findfont: Font family ['Heiti TC'] not found. Falling back to DejaVu Sans.\n",
      "2022-11-05 00:02:07,328 - WARNING  - findfont: Font family ['Heiti TC'] not found. Falling back to DejaVu Sans.\n",
      "2022-11-05 00:02:07,357 - WARNING  - findfont: Font family ['Heiti TC'] not found. Falling back to DejaVu Sans.\n",
      "2022-11-05 00:02:15,083 - WARNING  - findfont: Font family ['Heiti TC'] not found. Falling back to DejaVu Sans.\n"
     ]
    }
   ],
   "source": [
    "d.open_browser()"
   ]
  },
  {
   "cell_type": "code",
   "execution_count": null,
   "id": "f3216b0e",
   "metadata": {},
   "outputs": [],
   "source": []
  }
 ],
 "metadata": {
  "kernelspec": {
   "display_name": "Python 3 (ipykernel)",
   "language": "python",
   "name": "python3"
  },
  "language_info": {
   "codemirror_mode": {
    "name": "ipython",
    "version": 3
   },
   "file_extension": ".py",
   "mimetype": "text/x-python",
   "name": "python",
   "nbconvert_exporter": "python",
   "pygments_lexer": "ipython3",
   "version": "3.9.12"
  }
 },
 "nbformat": 4,
 "nbformat_minor": 5
}
